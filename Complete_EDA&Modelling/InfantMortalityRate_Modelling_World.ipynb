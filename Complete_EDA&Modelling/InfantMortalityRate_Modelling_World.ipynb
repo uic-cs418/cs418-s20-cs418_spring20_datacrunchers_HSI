{
 "cells": [
  {
   "cell_type": "code",
   "execution_count": 2,
   "metadata": {},
   "outputs": [],
   "source": [
    "import pandas as pd\n",
    "import numpy as np\n",
    "import seaborn as sns\n",
    "import matplotlib.pyplot as plt\n",
    "from sklearn.cluster import KMeans"
   ]
  },
  {
   "cell_type": "code",
   "execution_count": 3,
   "metadata": {},
   "outputs": [],
   "source": [
    "Deaths_df=pd.read_csv(r\"C:\\Users\\NehaS\\Desktop\\CS418\\MEASURESOFBIRTHANDDEATH.csv\")\n",
    "#Deaths_IL=Deaths_df[Deaths_df['CHSI_State_Name']=='Illinois']\n",
    "#Deaths_IL"
   ]
  },
  {
   "cell_type": "code",
   "execution_count": 4,
   "metadata": {},
   "outputs": [],
   "source": [
    "Death_Infant=Deaths_df[['CHSI_County_Name','LBW','VLBW','Premature','Under_18','Over_40','Unmarried','Late_Care','Infant_Mortality']]\n",
    "Death_Infant=Death_Infant.replace([-2222.2,-1111.1],np.NaN)\n"
   ]
  },
  {
   "cell_type": "markdown",
   "metadata": {},
   "source": [
    "### K-Means Clustering and Multinomial Bayes Classifier for Infant Mortality Rate"
   ]
  },
  {
   "cell_type": "code",
   "execution_count": 27,
   "metadata": {},
   "outputs": [
    {
     "name": "stdout",
     "output_type": "stream",
     "text": [
      "The 3 means for calculating low, medium and high healthcare areas using clustering are:\n",
      "[('2', array([ 9.21536585,  9.08670732,  1.73926829, 13.86182927,  1.43878049,\n",
      "       46.1647561 , 22.39170732])), ('1', array([ 6.66405767,  7.10020597,  1.22178167, 11.30720906,  1.7861483 ,\n",
      "       27.42296601, 15.55545829]))]\n"
     ]
    },
    {
     "data": {
      "text/html": [
       "<div>\n",
       "<style scoped>\n",
       "    .dataframe tbody tr th:only-of-type {\n",
       "        vertical-align: middle;\n",
       "    }\n",
       "\n",
       "    .dataframe tbody tr th {\n",
       "        vertical-align: top;\n",
       "    }\n",
       "\n",
       "    .dataframe thead th {\n",
       "        text-align: right;\n",
       "    }\n",
       "</style>\n",
       "<table border=\"1\" class=\"dataframe\">\n",
       "  <thead>\n",
       "    <tr style=\"text-align: right;\">\n",
       "      <th></th>\n",
       "      <th>CHSI_County_Name</th>\n",
       "      <th>LBW</th>\n",
       "      <th>VLBW</th>\n",
       "      <th>Premature</th>\n",
       "      <th>Under_18</th>\n",
       "      <th>Over_40</th>\n",
       "      <th>Unmarried</th>\n",
       "      <th>Late_Care</th>\n",
       "      <th>Infant_Mortality</th>\n",
       "      <th>Death_Level</th>\n",
       "    </tr>\n",
       "  </thead>\n",
       "  <tbody>\n",
       "    <tr>\n",
       "      <th>0</th>\n",
       "      <td>Autauga</td>\n",
       "      <td>8.1</td>\n",
       "      <td>1.6</td>\n",
       "      <td>14.3</td>\n",
       "      <td>5.1</td>\n",
       "      <td>1.4</td>\n",
       "      <td>28.0</td>\n",
       "      <td>12.9</td>\n",
       "      <td>5.9</td>\n",
       "      <td>1</td>\n",
       "    </tr>\n",
       "    <tr>\n",
       "      <th>1</th>\n",
       "      <td>Baldwin</td>\n",
       "      <td>8.6</td>\n",
       "      <td>1.9</td>\n",
       "      <td>15.3</td>\n",
       "      <td>4.3</td>\n",
       "      <td>1.9</td>\n",
       "      <td>25.4</td>\n",
       "      <td>15.3</td>\n",
       "      <td>7.1</td>\n",
       "      <td>1</td>\n",
       "    </tr>\n",
       "    <tr>\n",
       "      <th>2</th>\n",
       "      <td>Barbour</td>\n",
       "      <td>11.0</td>\n",
       "      <td>1.9</td>\n",
       "      <td>16.7</td>\n",
       "      <td>7.7</td>\n",
       "      <td>1.1</td>\n",
       "      <td>50.2</td>\n",
       "      <td>26.0</td>\n",
       "      <td>7.1</td>\n",
       "      <td>2</td>\n",
       "    </tr>\n",
       "    <tr>\n",
       "      <th>3</th>\n",
       "      <td>Bibb</td>\n",
       "      <td>8.7</td>\n",
       "      <td>1.7</td>\n",
       "      <td>13.7</td>\n",
       "      <td>6.5</td>\n",
       "      <td>0.9</td>\n",
       "      <td>30.2</td>\n",
       "      <td>16.3</td>\n",
       "      <td>9.8</td>\n",
       "      <td>1</td>\n",
       "    </tr>\n",
       "    <tr>\n",
       "      <th>4</th>\n",
       "      <td>Blount</td>\n",
       "      <td>7.6</td>\n",
       "      <td>1.5</td>\n",
       "      <td>12.8</td>\n",
       "      <td>5.0</td>\n",
       "      <td>1.3</td>\n",
       "      <td>19.3</td>\n",
       "      <td>16.7</td>\n",
       "      <td>9.0</td>\n",
       "      <td>1</td>\n",
       "    </tr>\n",
       "    <tr>\n",
       "      <th>...</th>\n",
       "      <td>...</td>\n",
       "      <td>...</td>\n",
       "      <td>...</td>\n",
       "      <td>...</td>\n",
       "      <td>...</td>\n",
       "      <td>...</td>\n",
       "      <td>...</td>\n",
       "      <td>...</td>\n",
       "      <td>...</td>\n",
       "      <td>...</td>\n",
       "    </tr>\n",
       "    <tr>\n",
       "      <th>3136</th>\n",
       "      <td>Sweetwater</td>\n",
       "      <td>8.8</td>\n",
       "      <td>1.3</td>\n",
       "      <td>11.4</td>\n",
       "      <td>3.8</td>\n",
       "      <td>1.3</td>\n",
       "      <td>31.9</td>\n",
       "      <td>23.3</td>\n",
       "      <td>10.2</td>\n",
       "      <td>1</td>\n",
       "    </tr>\n",
       "    <tr>\n",
       "      <th>3137</th>\n",
       "      <td>Teton</td>\n",
       "      <td>8.0</td>\n",
       "      <td>0.8</td>\n",
       "      <td>11.0</td>\n",
       "      <td>2.5</td>\n",
       "      <td>4.5</td>\n",
       "      <td>21.4</td>\n",
       "      <td>10.9</td>\n",
       "      <td>3.5</td>\n",
       "      <td>1</td>\n",
       "    </tr>\n",
       "    <tr>\n",
       "      <th>3138</th>\n",
       "      <td>Uinta</td>\n",
       "      <td>11.4</td>\n",
       "      <td>1.1</td>\n",
       "      <td>14.4</td>\n",
       "      <td>5.2</td>\n",
       "      <td>1.3</td>\n",
       "      <td>25.5</td>\n",
       "      <td>13.8</td>\n",
       "      <td>7.0</td>\n",
       "      <td>1</td>\n",
       "    </tr>\n",
       "    <tr>\n",
       "      <th>3139</th>\n",
       "      <td>Washakie</td>\n",
       "      <td>7.3</td>\n",
       "      <td>0.4</td>\n",
       "      <td>10.8</td>\n",
       "      <td>4.1</td>\n",
       "      <td>1.2</td>\n",
       "      <td>23.2</td>\n",
       "      <td>14.9</td>\n",
       "      <td>9.1</td>\n",
       "      <td>1</td>\n",
       "    </tr>\n",
       "    <tr>\n",
       "      <th>3140</th>\n",
       "      <td>Weston</td>\n",
       "      <td>8.8</td>\n",
       "      <td>0.9</td>\n",
       "      <td>10.7</td>\n",
       "      <td>5.2</td>\n",
       "      <td>0.6</td>\n",
       "      <td>27.5</td>\n",
       "      <td>18.9</td>\n",
       "      <td>11.7</td>\n",
       "      <td>1</td>\n",
       "    </tr>\n",
       "  </tbody>\n",
       "</table>\n",
       "<p>2762 rows × 10 columns</p>\n",
       "</div>"
      ],
      "text/plain": [
       "     CHSI_County_Name   LBW  VLBW  Premature  Under_18  Over_40  Unmarried  \\\n",
       "0             Autauga   8.1   1.6       14.3       5.1      1.4       28.0   \n",
       "1             Baldwin   8.6   1.9       15.3       4.3      1.9       25.4   \n",
       "2             Barbour  11.0   1.9       16.7       7.7      1.1       50.2   \n",
       "3                Bibb   8.7   1.7       13.7       6.5      0.9       30.2   \n",
       "4              Blount   7.6   1.5       12.8       5.0      1.3       19.3   \n",
       "...               ...   ...   ...        ...       ...      ...        ...   \n",
       "3136       Sweetwater   8.8   1.3       11.4       3.8      1.3       31.9   \n",
       "3137            Teton   8.0   0.8       11.0       2.5      4.5       21.4   \n",
       "3138            Uinta  11.4   1.1       14.4       5.2      1.3       25.5   \n",
       "3139         Washakie   7.3   0.4       10.8       4.1      1.2       23.2   \n",
       "3140           Weston   8.8   0.9       10.7       5.2      0.6       27.5   \n",
       "\n",
       "      Late_Care  Infant_Mortality Death_Level  \n",
       "0          12.9               5.9           1  \n",
       "1          15.3               7.1           1  \n",
       "2          26.0               7.1           2  \n",
       "3          16.3               9.8           1  \n",
       "4          16.7               9.0           1  \n",
       "...         ...               ...         ...  \n",
       "3136       23.3              10.2           1  \n",
       "3137       10.9               3.5           1  \n",
       "3138       13.8               7.0           1  \n",
       "3139       14.9               9.1           1  \n",
       "3140       18.9              11.7           1  \n",
       "\n",
       "[2762 rows x 10 columns]"
      ]
     },
     "execution_count": 27,
     "metadata": {},
     "output_type": "execute_result"
    }
   ],
   "source": [
    "Death_Infant=Death_Infant[Death_Infant['Infant_Mortality'].notnull()]\n",
    "Death_Infant=Death_Infant.dropna()\n",
    "X=np.array(Death_Infant[['Infant_Mortality','LBW','VLBW','Premature','Over_40','Unmarried','Late_Care']])\n",
    "model = KMeans(n_clusters=2, random_state=1)\n",
    "model.fit(X)\n",
    "pred = model.predict(X)\n",
    "levels=['2','1']\n",
    "pred_val=[levels[x] for x in pred]\n",
    "print(\"The 3 means for calculating low, medium and high healthcare areas using clustering are:\")\n",
    "cluster_cent=zip(levels,model.cluster_centers_)\n",
    "print([x for x in cluster_cent])\n",
    "Death_Infant['Death_Level']=pred_val\n",
    "Death_Infant\n"
   ]
  },
  {
   "cell_type": "code",
   "execution_count": 28,
   "metadata": {},
   "outputs": [
    {
     "name": "stdout",
     "output_type": "stream",
     "text": [
      "0.8592057761732852\n"
     ]
    }
   ],
   "source": [
    "from sklearn.naive_bayes import MultinomialNB\n",
    "from sklearn.model_selection import train_test_split\n",
    "from sklearn.metrics import accuracy_score\n",
    "\n",
    "X1=Death_Infant[['LBW','VLBW','Premature','Under_18','Over_40','Unmarried','Late_Care']].to_numpy()\n",
    "y=Death_Infant['Death_Level'].to_numpy()\n",
    "X1_train, X1_test, y_train, y_test = train_test_split(X1, y, test_size=0.10,random_state=5)\n",
    "clf = MultinomialNB()\n",
    "clf.fit(X1_train,y_train)\n",
    "inf_pred=clf.predict(X1_test)\n",
    "print(accuracy_score(y_test,inf_pred))"
   ]
  },
  {
   "cell_type": "markdown",
   "metadata": {},
   "source": [
    "### Backward Elimination to improve model accuracy"
   ]
  },
  {
   "cell_type": "code",
   "execution_count": 29,
   "metadata": {},
   "outputs": [
    {
     "name": "stdout",
     "output_type": "stream",
     "text": [
      "                                 OLS Regression Results                                \n",
      "=======================================================================================\n",
      "Dep. Variable:       Infant_Mortality   R-squared (uncentered):                   0.918\n",
      "Model:                            OLS   Adj. R-squared (uncentered):              0.918\n",
      "Method:                 Least Squares   F-statistic:                              4431.\n",
      "Date:                Wed, 22 Apr 2020   Prob (F-statistic):                        0.00\n",
      "Time:                        14:39:55   Log-Likelihood:                         -6188.4\n",
      "No. Observations:                2762   AIC:                                  1.239e+04\n",
      "Df Residuals:                    2755   BIC:                                  1.243e+04\n",
      "Df Model:                           7                                                  \n",
      "Covariance Type:            nonrobust                                                  \n",
      "==============================================================================\n",
      "                 coef    std err          t      P>|t|      [0.025      0.975]\n",
      "------------------------------------------------------------------------------\n",
      "x1             0.1124      0.052      2.149      0.032       0.010       0.215\n",
      "x2             2.2716      0.142     16.022      0.000       1.994       2.550\n",
      "x3             0.1274      0.031      4.146      0.000       0.067       0.188\n",
      "x4             0.0188      0.033      0.562      0.574      -0.047       0.084\n",
      "x5            -0.1380      0.052     -2.666      0.008      -0.239      -0.036\n",
      "x6             0.0367      0.006      5.867      0.000       0.024       0.049\n",
      "x7             0.0443      0.008      5.844      0.000       0.029       0.059\n",
      "==============================================================================\n",
      "Omnibus:                      243.783   Durbin-Watson:                   1.920\n",
      "Prob(Omnibus):                  0.000   Jarque-Bera (JB):              589.217\n",
      "Skew:                           0.522   Prob(JB):                    1.13e-128\n",
      "Kurtosis:                       5.007   Cond. No.                         140.\n",
      "==============================================================================\n",
      "\n",
      "Warnings:\n",
      "[1] Standard Errors assume that the covariance matrix of the errors is correctly specified.\n"
     ]
    }
   ],
   "source": [
    "import statsmodels.api as sm\n",
    "X_opt =X1[:,[0,1,2,3,4,5,6]]\n",
    "OLS_res = sm.OLS(endog=Death_Infant['Infant_Mortality'], exog=X_opt).fit()\n",
    "print(OLS_res.summary())"
   ]
  },
  {
   "cell_type": "code",
   "execution_count": 30,
   "metadata": {},
   "outputs": [
    {
     "name": "stdout",
     "output_type": "stream",
     "text": [
      "                                 OLS Regression Results                                \n",
      "=======================================================================================\n",
      "Dep. Variable:       Infant_Mortality   R-squared (uncentered):                   0.918\n",
      "Model:                            OLS   Adj. R-squared (uncentered):              0.918\n",
      "Method:                 Least Squares   F-statistic:                              5171.\n",
      "Date:                Wed, 22 Apr 2020   Prob (F-statistic):                        0.00\n",
      "Time:                        14:39:57   Log-Likelihood:                         -6188.6\n",
      "No. Observations:                2762   AIC:                                  1.239e+04\n",
      "Df Residuals:                    2756   BIC:                                  1.242e+04\n",
      "Df Model:                           6                                                  \n",
      "Covariance Type:            nonrobust                                                  \n",
      "==============================================================================\n",
      "                 coef    std err          t      P>|t|      [0.025      0.975]\n",
      "------------------------------------------------------------------------------\n",
      "x1             0.1164      0.052      2.247      0.025       0.015       0.218\n",
      "x2             2.2614      0.141     16.084      0.000       1.986       2.537\n",
      "x3             0.1296      0.030      4.253      0.000       0.070       0.189\n",
      "x4            -0.1543      0.043     -3.601      0.000      -0.238      -0.070\n",
      "x5             0.0382      0.006      6.698      0.000       0.027       0.049\n",
      "x6             0.0459      0.007      6.485      0.000       0.032       0.060\n",
      "==============================================================================\n",
      "Omnibus:                      246.867   Durbin-Watson:                   1.920\n",
      "Prob(Omnibus):                  0.000   Jarque-Bera (JB):              594.169\n",
      "Skew:                           0.530   Prob(JB):                    9.50e-130\n",
      "Kurtosis:                       5.010   Cond. No.                         137.\n",
      "==============================================================================\n",
      "\n",
      "Warnings:\n",
      "[1] Standard Errors assume that the covariance matrix of the errors is correctly specified.\n"
     ]
    }
   ],
   "source": [
    "import statsmodels.api as sm\n",
    "X_opt =X1[:,[0,1,2,4,5,6]]\n",
    "OLS_res = sm.OLS(endog=Death_Infant['Infant_Mortality'], exog=X_opt).fit()\n",
    "print(OLS_res.summary())"
   ]
  },
  {
   "cell_type": "markdown",
   "metadata": {},
   "source": [
    "### Accuracy score after performing Backward Elimination"
   ]
  },
  {
   "cell_type": "code",
   "execution_count": 31,
   "metadata": {},
   "outputs": [
    {
     "name": "stdout",
     "output_type": "stream",
     "text": [
      "0.8625678119349005\n"
     ]
    }
   ],
   "source": [
    "from sklearn.naive_bayes import MultinomialNB\n",
    "from sklearn.model_selection import train_test_split\n",
    "from sklearn.metrics import accuracy_score\n",
    "\n",
    "X2=Death_Infant[['LBW','VLBW','Premature','Over_40','Unmarried','Late_Care']].to_numpy()\n",
    "y2=Death_Infant['Death_Level'].to_numpy()\n",
    "X2_train, X2_test, y2_train, y2_test = train_test_split(X1, y, test_size=0.20,random_state=5)\n",
    "clf = MultinomialNB()\n",
    "clf.fit(X2_train,y2_train)\n",
    "inf_pred2=clf.predict(X2_test)\n",
    "print(accuracy_score(y2_test,inf_pred2))"
   ]
  }
 ],
 "metadata": {
  "kernelspec": {
   "display_name": "Python 3",
   "language": "python",
   "name": "python3"
  },
  "language_info": {
   "codemirror_mode": {
    "name": "ipython",
    "version": 3
   },
   "file_extension": ".py",
   "mimetype": "text/x-python",
   "name": "python",
   "nbconvert_exporter": "python",
   "pygments_lexer": "ipython3",
   "version": "3.7.3"
  }
 },
 "nbformat": 4,
 "nbformat_minor": 4
}
